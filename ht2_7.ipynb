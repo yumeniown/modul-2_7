{
  "nbformat": 4,
  "nbformat_minor": 0,
  "metadata": {
    "colab": {
      "provenance": [],
      "authorship_tag": "ABX9TyNjrKMun3r5FLlnXY0GdcAG",
      "include_colab_link": true
    },
    "kernelspec": {
      "name": "python3",
      "display_name": "Python 3"
    },
    "language_info": {
      "name": "python"
    }
  },
  "cells": [
    {
      "cell_type": "markdown",
      "metadata": {
        "id": "view-in-github",
        "colab_type": "text"
      },
      "source": [
        "<a href=\"https://colab.research.google.com/github/yumeniown/modul-2_7/blob/main/ht2_7.ipynb\" target=\"_parent\"><img src=\"https://colab.research.google.com/assets/colab-badge.svg\" alt=\"Open In Colab\"/></a>"
      ]
    },
    {
      "cell_type": "markdown",
      "source": [
        "#### Задание\n",
        "Используем набор данных о винах. Вам необходимо будет предсказать качество вина по его характеристикам.\n",
        "\n",
        "1. Для начала подготовим данные к бинарной классификации. Условно разделим вино на хорошее и плохое. Хорошим вином будем называть вино, параметр quality которого  6, плохим — всё остальное.\n",
        "\n",
        "2. Разделим на тренировочную и тестовую, параметры test_size=0.2, random_state=42\n",
        "\n",
        "3. Обучите на тренировочной выборке модель случайного леса, состоящего из 500 деревьев. Максимальная глубина каждого из деревьев — 8. Минимальное число объектов в листе — 10. В качестве критерия информативности используйте критерий Джини. Количество признаков, на которых обучается каждое из деревьев, возьмите как корень из m, где m — общее количество признаков. В качестве значения параметра random_state возьмите число 42.\n",
        "\n",
        "4. Сделайте предсказание качества вина для тренировочного и тестового наборов данных.\n",
        "\n",
        "5. Дополнительно: обучить модель логистической регрессии/попробовать применить другие ансамбли"
      ],
      "metadata": {
        "id": "dapZt1Jd9ixV"
      }
    },
    {
      "cell_type": "markdown",
      "source": [
        "**1. Для начала подготовим данные к бинарной классификации. Условно разделим вино на хорошее и плохое. Хорошим вином будем называть вино, параметр quality которого  6, плохим — всё остальное.**"
      ],
      "metadata": {
        "id": "_158RlIz9u1G"
      }
    },
    {
      "cell_type": "code",
      "execution_count": null,
      "metadata": {
        "id": "4igCsWK08qpt"
      },
      "outputs": [],
      "source": [
        "import numpy as np\n",
        "import pandas as pd\n",
        "import matplotlib.pyplot as plt\n",
        "import seaborn as sns\n",
        "from sklearn.model_selection import train_test_split\n",
        "from sklearn.ensemble import RandomForestClassifier\n",
        "from sklearn.metrics import classification_report\n",
        "import warnings\n",
        "\n",
        "warnings.filterwarnings('ignore')\n",
        "\n",
        "plt.style.use('seaborn')\n",
        "\n",
        "df = pd.read_csv('wine.csv', sep=';')\n"
      ]
    },
    {
      "cell_type": "code",
      "source": [
        "print(df.head())"
      ],
      "metadata": {
        "colab": {
          "base_uri": "https://localhost:8080/"
        },
        "id": "Zx7IDt1XHXzE",
        "outputId": "d8b60b78-d58c-4d10-c599-ac57f490fb1f"
      },
      "execution_count": null,
      "outputs": [
        {
          "output_type": "stream",
          "name": "stdout",
          "text": [
            "   fixed acidity  volatile acidity  citric acid  residual sugar  chlorides  \\\n",
            "0            7.4              0.70         0.00             1.9      0.076   \n",
            "1            7.8              0.88         0.00             2.6      0.098   \n",
            "2            7.8              0.76         0.04             2.3      0.092   \n",
            "3           11.2              0.28         0.56             1.9      0.075   \n",
            "4            7.4              0.70         0.00             1.9      0.076   \n",
            "\n",
            "   free sulfur dioxide  total sulfur dioxide  density    pH  sulphates  \\\n",
            "0                 11.0                  34.0   0.9978  3.51       0.56   \n",
            "1                 25.0                  67.0   0.9968  3.20       0.68   \n",
            "2                 15.0                  54.0   0.9970  3.26       0.65   \n",
            "3                 17.0                  60.0   0.9980  3.16       0.58   \n",
            "4                 11.0                  34.0   0.9978  3.51       0.56   \n",
            "\n",
            "   alcohol  quality  \n",
            "0      9.4        5  \n",
            "1      9.8        5  \n",
            "2      9.8        5  \n",
            "3      9.8        6  \n",
            "4      9.4        5  \n"
          ]
        }
      ]
    },
    {
      "cell_type": "code",
      "source": [
        "X = df.drop('quality', axis=1)\n",
        "\n",
        "y = (df['quality'] == 6).astype(int)"
      ],
      "metadata": {
        "id": "QwZiKZ2EHaqM"
      },
      "execution_count": null,
      "outputs": []
    },
    {
      "cell_type": "code",
      "source": [
        "class_distribution = y.value_counts(normalize=True)\n",
        "print(\"Распределение хорошего и плохого вина:\")\n",
        "print(class_distribution)\n",
        "\n",
        "sns.countplot(x=y)\n",
        "plt.title(\"Распределение хорошего и плохого вина:\")\n",
        "plt.show()"
      ],
      "metadata": {
        "colab": {
          "base_uri": "https://localhost:8080/",
          "height": 615
        },
        "id": "CZzlvj15HkWH",
        "outputId": "c8cd085a-abc7-4f2e-b55b-587418e5b364"
      },
      "execution_count": null,
      "outputs": [
        {
          "output_type": "stream",
          "name": "stdout",
          "text": [
            "Распределение хорошего и плохого вина:\n",
            "quality\n",
            "0    0.601001\n",
            "1    0.398999\n",
            "Name: proportion, dtype: float64\n"
          ]
        },
        {
          "output_type": "display_data",
          "data": {
            "text/plain": [
              "<Figure size 800x550 with 1 Axes>"
            ],
            "image/png": "[encoded data removed]"
          },
          "metadata": {}
        }
      ]
    },
    {
      "cell_type": "markdown",
      "source": [
        "Из графика видно, что распределение классов несбалансированное, т.е. в данных значительно больше плохих вин по сравнению с хорошими"
      ],
      "metadata": {
        "id": "62AVbXCPIzRB"
      }
    },
    {
      "cell_type": "markdown",
      "source": [
        "**2. Разделим на тренировочную и тестовую, параметры test_size=0.2, random_state=42**"
      ],
      "metadata": {
        "id": "lo9KsmhGI9r2"
      }
    },
    {
      "cell_type": "code",
      "source": [
        "from sklearn.model_selection import train_test_split\n",
        "\n",
        "# Разделим выборку на тренировочную и тестовую\n",
        "X_train, X_test, y_train, y_test = train_test_split(X, y, test_size=0.2, random_state=42)\n",
        "\n",
        "# Посмотрим на размерности выборок\n",
        "print(f'Тренировочная выборка: {X_train.shape}')\n",
        "print(f'Тестовая выборка: {X_test.shape}')"
      ],
      "metadata": {
        "colab": {
          "base_uri": "https://localhost:8080/"
        },
        "id": "Dyn2I4qeJKMB",
        "outputId": "cca86e80-9959-47bb-f272-41c48bf289ac"
      },
      "execution_count": null,
      "outputs": [
        {
          "output_type": "stream",
          "name": "stdout",
          "text": [
            "Тренировочная выборка: (1279, 11)\n",
            "Тестовая выборка: (320, 11)\n"
          ]
        }
      ]
    },
    {
      "cell_type": "code",
      "source": [
        "# Проверим распределение классов в тренировочной и тестовой выборках\n",
        "train_class_distribution = y_train.value_counts(normalize=True)\n",
        "test_class_distribution = y_test.value_counts(normalize=True)\n",
        "\n",
        "print(\"Распределение классов в тренировочной выборке: \\n\")\n",
        "print(train_class_distribution, '\\n')\n",
        "print(\"------------------------------------------ \\n\")\n",
        "print(\"Распределение классов в тестовой выборке: \\n\")\n",
        "print(test_class_distribution)"
      ],
      "metadata": {
        "colab": {
          "base_uri": "https://localhost:8080/"
        },
        "id": "N-5cGXd0JQE6",
        "outputId": "36c22f47-bc2c-4fbb-fc67-22d5a63ac66b"
      },
      "execution_count": null,
      "outputs": [
        {
          "output_type": "stream",
          "name": "stdout",
          "text": [
            "Распределение классов в тренировочной выборке: \n",
            "\n",
            "quality\n",
            "0    0.604378\n",
            "1    0.395622\n",
            "Name: proportion, dtype: float64 \n",
            "\n",
            "------------------------------------------ \n",
            "\n",
            "Распределение классов в тестовой выборке: \n",
            "\n",
            "quality\n",
            "0    0.5875\n",
            "1    0.4125\n",
            "Name: proportion, dtype: float64\n"
          ]
        }
      ]
    },
    {
      "cell_type": "markdown",
      "source": [
        "Распределение остается несбалансированным, но достаточно близко по значениям, что важно для корректного обучения модели"
      ],
      "metadata": {
        "id": "lVD3HXE1KKvq"
      }
    },
    {
      "cell_type": "markdown",
      "source": [
        "**3. Обучите на тренировочной выборке модель случайного леса, состоящего из 500 деревьев. Максимальная глубина каждого из деревьев — 8. Минимальное число объектов в листе — 10. В качестве критерия информативности используйте критерий Джини. Количество признаков, на которых обучается каждое из деревьев, возьмите как корень из m, где m — общее количество признаков. В качестве значения параметра random_state возьмите число 42.**"
      ],
      "metadata": {
        "id": "3TEzyBTiKb_2"
      }
    },
    {
      "cell_type": "code",
      "source": [
        "from sklearn.ensemble import RandomForestClassifier\n",
        "from sklearn.metrics import classification_report\n",
        "\n",
        "# Обучение модели случайного леса\n",
        "rf = RandomForestClassifier(\n",
        "    n_estimators=500,\n",
        "    max_depth=8,\n",
        "    min_samples_leaf=10,\n",
        "    criterion='gini',\n",
        "    max_features='sqrt',\n",
        "    random_state=42\n",
        ")\n",
        "\n",
        "rf.fit(X_train, y_train)"
      ],
      "metadata": {
        "colab": {
          "base_uri": "https://localhost:8080/",
          "height": 92
        },
        "id": "ReTn6VIrKtba",
        "outputId": "2a1725ab-84b7-4091-9ec3-1da62b530c5e"
      },
      "execution_count": null,
      "outputs": [
        {
          "output_type": "execute_result",
          "data": {
            "text/plain": [
              "RandomForestClassifier(max_depth=8, min_samples_leaf=10, n_estimators=500,\n",
              "                       random_state=42)"
            ],
            "text/html": [
              "<style>#sk-container-id-2 {color: black;}#sk-container-id-2 pre{padding: 0;}#sk-container-id-2 div.sk-toggleable {background-color: white;}#sk-container-id-2 label.sk-toggleable__label {cursor: pointer;display: block;width: 100%;margin-bottom: 0;padding: 0.3em;box-sizing: border-box;text-align: center;}#sk-container-id-2 label.sk-toggleable__label-arrow:before {content: \"▸\";float: left;margin-right: 0.25em;color: #696969;}#sk-container-id-2 label.sk-toggleable__label-arrow:hover:before {color: black;}#sk-container-id-2 div.sk-estimator:hover label.sk-toggleable__label-arrow:before {color: black;}#sk-container-id-2 div.sk-toggleable__content {max-height: 0;max-width: 0;overflow: hidden;text-align: left;background-color: #f0f8ff;}#sk-container-id-2 div.sk-toggleable__content pre {margin: 0.2em;color: black;border-radius: 0.25em;background-color: #f0f8ff;}#sk-container-id-2 input.sk-toggleable__control:checked~div.sk-toggleable__content {max-height: 200px;max-width: 100%;overflow: auto;}#sk-container-id-2 input.sk-toggleable__control:checked~label.sk-toggleable__label-arrow:before {content: \"▾\";}#sk-container-id-2 div.sk-estimator input.sk-toggleable__control:checked~label.sk-toggleable__label {background-color: #d4ebff;}#sk-container-id-2 div.sk-label input.sk-toggleable__control:checked~label.sk-toggleable__label {background-color: #d4ebff;}#sk-container-id-2 input.sk-hidden--visually {border: 0;clip: rect(1px 1px 1px 1px);clip: rect(1px, 1px, 1px, 1px);height: 1px;margin: -1px;overflow: hidden;padding: 0;position: absolute;width: 1px;}#sk-container-id-2 div.sk-estimator {font-family: monospace;background-color: #f0f8ff;border: 1px dotted black;border-radius: 0.25em;box-sizing: border-box;margin-bottom: 0.5em;}#sk-container-id-2 div.sk-estimator:hover {background-color: #d4ebff;}#sk-container-id-2 div.sk-parallel-item::after {content: \"\";width: 100%;border-bottom: 1px solid gray;flex-grow: 1;}#sk-container-id-2 div.sk-label:hover label.sk-toggleable__label {background-color: #d4ebff;}#sk-container-id-2 div.sk-serial::before {content: \"\";position: absolute;border-left: 1px solid gray;box-sizing: border-box;top: 0;bottom: 0;left: 50%;z-index: 0;}#sk-container-id-2 div.sk-serial {display: flex;flex-direction: column;align-items: center;background-color: white;padding-right: 0.2em;padding-left: 0.2em;position: relative;}#sk-container-id-2 div.sk-item {position: relative;z-index: 1;}#sk-container-id-2 div.sk-parallel {display: flex;align-items: stretch;justify-content: center;background-color: white;position: relative;}#sk-container-id-2 div.sk-item::before, #sk-container-id-2 div.sk-parallel-item::before {content: \"\";position: absolute;border-left: 1px solid gray;box-sizing: border-box;top: 0;bottom: 0;left: 50%;z-index: -1;}#sk-container-id-2 div.sk-parallel-item {display: flex;flex-direction: column;z-index: 1;position: relative;background-color: white;}#sk-container-id-2 div.sk-parallel-item:first-child::after {align-self: flex-end;width: 50%;}#sk-container-id-2 div.sk-parallel-item:last-child::after {align-self: flex-start;width: 50%;}#sk-container-id-2 div.sk-parallel-item:only-child::after {width: 0;}#sk-container-id-2 div.sk-dashed-wrapped {border: 1px dashed gray;margin: 0 0.4em 0.5em 0.4em;box-sizing: border-box;padding-bottom: 0.4em;background-color: white;}#sk-container-id-2 div.sk-label label {font-family: monospace;font-weight: bold;display: inline-block;line-height: 1.2em;}#sk-container-id-2 div.sk-label-container {text-align: center;}#sk-container-id-2 div.sk-container {/* jupyter's `normalize.less` sets `[hidden] { display: none; }` but bootstrap.min.css set `[hidden] { display: none !important; }` so we also need the `!important` here to be able to override the default hidden behavior on the sphinx rendered scikit-learn.org. See: https://github.com/scikit-learn/scikit-learn/issues/21755 */display: inline-block !important;position: relative;}#sk-container-id-2 div.sk-text-repr-fallback {display: none;}</style><div id=\"sk-container-id-2\" class=\"sk-top-container\"><div class=\"sk-text-repr-fallback\"><pre>RandomForestClassifier(max_depth=8, min_samples_leaf=10, n_estimators=500,\n",
              "                       random_state=42)</pre><b>In a Jupyter environment, please rerun this cell to show the HTML representation or trust the notebook. <br />On GitHub, the HTML representation is unable to render, please try loading this page with nbviewer.org.</b></div><div class=\"sk-container\" hidden><div class=\"sk-item\"><div class=\"sk-estimator sk-toggleable\"><input class=\"sk-toggleable__control sk-hidden--visually\" id=\"sk-estimator-id-2\" type=\"checkbox\" checked><label for=\"sk-estimator-id-2\" class=\"sk-toggleable__label sk-toggleable__label-arrow\">RandomForestClassifier</label><div class=\"sk-toggleable__content\"><pre>RandomForestClassifier(max_depth=8, min_samples_leaf=10, n_estimators=500,\n",
              "                       random_state=42)</pre></div></div></div></div></div>"
            ]
          },
          "metadata": {},
          "execution_count": 29
        }
      ]
    },
    {
      "cell_type": "markdown",
      "source": [
        "**4. Сделайте предсказание качества вина для тренировочного и тестового наборов данных.**\n"
      ],
      "metadata": {
        "id": "r5meVfcgL-og"
      }
    },
    {
      "cell_type": "code",
      "source": [
        "from sklearn.metrics import classification_report\n",
        "\n",
        "# Формируем предсказания для тренировочной и тестовой выборки\n",
        "y_train_pred = rf.predict(X_train)\n",
        "y_test_pred = rf.predict(X_test)"
      ],
      "metadata": {
        "id": "ZIttTaynL9sU"
      },
      "execution_count": null,
      "outputs": []
    },
    {
      "cell_type": "code",
      "source": [
        "# Оцениваем результаты для тренировочной выборки\n",
        "print(\"Результат по классификации для тренировочной выборки:\")\n",
        "print(classification_report(y_train, y_train_pred))\n",
        "\n",
        "# Оцениваем результаты для тестовой выборки\n",
        "print(\"Результат по классификации для тестовой выборки:\")\n",
        "print(classification_report(y_test, y_test_pred))\n"
      ],
      "metadata": {
        "colab": {
          "base_uri": "https://localhost:8080/"
        },
        "id": "N7XAFboIMJu7",
        "outputId": "4ac35459-d9c7-4ad5-8b43-2245ea495338"
      },
      "execution_count": null,
      "outputs": [
        {
          "output_type": "stream",
          "name": "stdout",
          "text": [
            "Результат по классификации для тренировочной выборки:\n",
            "              precision    recall  f1-score   support\n",
            "\n",
            "           0       0.82      0.93      0.87       773\n",
            "           1       0.86      0.68      0.76       506\n",
            "\n",
            "    accuracy                           0.83      1279\n",
            "   macro avg       0.84      0.81      0.82      1279\n",
            "weighted avg       0.84      0.83      0.83      1279\n",
            "\n",
            "Результат по классификации для тестовой выборки:\n",
            "              precision    recall  f1-score   support\n",
            "\n",
            "           0       0.64      0.80      0.71       188\n",
            "           1       0.56      0.37      0.45       132\n",
            "\n",
            "    accuracy                           0.62       320\n",
            "   macro avg       0.60      0.58      0.58       320\n",
            "weighted avg       0.61      0.62      0.60       320\n",
            "\n"
          ]
        }
      ]
    },
    {
      "cell_type": "markdown",
      "source": [
        "Модель случайного леса показывает высокую точность на тренировочной выборке, что может говорить о переобучении"
      ],
      "metadata": {
        "id": "LqqxjCWDM4s6"
      }
    },
    {
      "cell_type": "markdown",
      "source": [
        "**5. Дополнительно: обучить модель логистической регрессии/попробовать применить другие ансамбли**"
      ],
      "metadata": {
        "id": "P7M3LgfhNFMG"
      }
    },
    {
      "cell_type": "code",
      "source": [
        "from sklearn.linear_model import LogisticRegression\n",
        "from sklearn.ensemble import GradientBoostingClassifier"
      ],
      "metadata": {
        "id": "AkYNbEVqNL2a"
      },
      "execution_count": null,
      "outputs": []
    },
    {
      "cell_type": "code",
      "source": [
        "# Логистическая регрессия\n",
        "log_reg = LogisticRegression(random_state=42)\n",
        "log_reg.fit(X_train, y_train)\n",
        "y_test_pred_log_reg = log_reg.predict(X_test)\n",
        "print(\"Отчет по классификации для логистической регрессии:\")\n",
        "print(classification_report(y_test, y_test_pred_log_reg))\n",
        "\n",
        "# Градиентный бустинг\n",
        "gb = GradientBoostingClassifier(\n",
        "    n_estimators=500,\n",
        "    max_depth=8,\n",
        "    min_samples_leaf=10,\n",
        "    learning_rate=0.1,\n",
        "    random_state=42\n",
        ")\n",
        "\n",
        "gb.fit(X_train, y_train)\n",
        "y_test_pred_gb = gb.predict(X_test)\n",
        "print(\"Отчет по классификации для градиентного бустинга:\")\n",
        "print(classification_report(y_test, y_test_pred_gb))"
      ],
      "metadata": {
        "colab": {
          "base_uri": "https://localhost:8080/"
        },
        "id": "Lb1m-o6bNR0i",
        "outputId": "4b5d730a-469d-4b87-9e72-94bbb883160f"
      },
      "execution_count": null,
      "outputs": [
        {
          "output_type": "stream",
          "name": "stdout",
          "text": [
            "Отчет по классификации для логистической регрессии:\n",
            "              precision    recall  f1-score   support\n",
            "\n",
            "           0       0.60      0.78      0.68       188\n",
            "           1       0.45      0.25      0.32       132\n",
            "\n",
            "    accuracy                           0.56       320\n",
            "   macro avg       0.52      0.52      0.50       320\n",
            "weighted avg       0.54      0.56      0.53       320\n",
            "\n",
            "Отчет по классификации для градиентного бустинга:\n",
            "              precision    recall  f1-score   support\n",
            "\n",
            "           0       0.74      0.77      0.75       188\n",
            "           1       0.65      0.61      0.63       132\n",
            "\n",
            "    accuracy                           0.70       320\n",
            "   macro avg       0.69      0.69      0.69       320\n",
            "weighted avg       0.70      0.70      0.70       320\n",
            "\n"
          ]
        }
      ]
    },
    {
      "cell_type": "markdown",
      "source": [
        "**Вывод:** модель градиентного бустинга показывает результаты лучше по сравнению с логистической регрессией. Градиентный бустинг имеет более высокую точность, полноту и F1-меру для обоих классов, а также общую точность 70% по сравнению с 56% у логистической регрессии. Это подтверждает, что градиентный бустинг более эффективно справляется с задачей классификации вин, правильно различая как хорошие, так и плохие вина. Логистическая регрессия показывает слабые результаты, особенно в отношении классификации хороших вин, что указывает на её ограниченные возможности"
      ],
      "metadata": {
        "id": "mUDrVF7iNjj-"
      }
    }
  ]
}
